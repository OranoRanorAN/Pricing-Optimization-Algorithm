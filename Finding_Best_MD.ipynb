{
 "cells": [
  {
   "cell_type": "code",
   "execution_count": 1,
   "metadata": {},
   "outputs": [],
   "source": [
    "import numpy as np\n",
    "import pandas as pd\n",
    "import matplotlib.pyplot as plt\n",
    "from scipy.optimize import curve_fit,minimize\n",
    "import warnings\n",
    "warnings.filterwarnings(\"ignore\")"
   ]
  },
  {
   "cell_type": "markdown",
   "metadata": {},
   "source": [
    "# Pricing \n",
    "## Preparation"
   ]
  },
  {
   "cell_type": "code",
   "execution_count": 3,
   "metadata": {},
   "outputs": [],
   "source": [
    "# DATA PATH\n",
    "path = 'Pricing/'\n",
    "output_path = 'RESULT/'\n",
    "file_name = 'Pricing Test Data.xlsx' # input file : with md bounds and inv bounds"
   ]
  },
  {
   "cell_type": "code",
   "execution_count": 4,
   "metadata": {},
   "outputs": [],
   "source": [
    "# read data \n",
    "data = pd.read_excel(path+file_name,header = 0)\n",
    "data.columns = ['SKU','MSRP', 'DATE', 'SALES_QTY','SALES_AMT','MD_LOWER_BOUND','MD_UPPER_BOUND','INV']\n",
    "# calculate MD\n",
    "data['MSRP2'] = data['SALES_AMT']/data['SALES_QTY'] # calculate current price\n",
    "data['TEMP_MP'] = 1 - data['MSRP2']/data['MSRP']\n",
    "data['MD'] = data['TEMP_MP'].apply(lambda x: 0 if (x < 0) else x)"
   ]
  },
  {
   "cell_type": "markdown",
   "metadata": {},
   "source": [
    "## Fitting MD-Sold curve"
   ]
  },
  {
   "cell_type": "code",
   "execution_count": 5,
   "metadata": {},
   "outputs": [],
   "source": [
    "# md-sold function:3 types\n",
    "def linear(x,a,b):\n",
    "    return a * x + b\n",
    "\n",
    "def exp(x,a,b):\n",
    "    return a * np.exp(b*x)\n",
    "\n",
    "def log(x,a,b):\n",
    "    return a + b*np.log(x+1)\n",
    "\n",
    "# fit function\n",
    "def reg(func,X,y):\n",
    "    fitParams,_ = curve_fit(func,X,y) # 拟合曲线，func在上面的linear exp log1里面选\n",
    "    y_pred = func(X,fitParams[0],fitParams[1]) # 计算拟合后的y'\n",
    "    mse = np.mean((y-y_pred)**2) # 计算MSE\n",
    "    return fitParams,mse,y_pred\n",
    "\n",
    "# demand function\n",
    "def demand_func(msrp,func,fitParams,x):\n",
    "    # FORMULA: demand = msrp * (1-md) * sold(md)\n",
    "    demand = msrp * (1-x) * func(x,fitParams[0],fitParams[1]) \n",
    "    return demand\n",
    "\n",
    "# plot function\n",
    "def plot_fit(X,y,y_pred):\n",
    "    plt.plot(X,y,\"o\",markersize = 1,alpha = 0.8,label='actual') # 原input数据\n",
    "    plt.plot(X,y_pred,'ro',markersize = 1,alpha = 1,label='predict') # 拟合数据\n",
    "    plt.legend()"
   ]
  },
  {
   "cell_type": "code",
   "execution_count": 6,
   "metadata": {},
   "outputs": [],
   "source": [
    "MD = [] \n",
    "DEMAND_SALES = [] \n",
    "# fitting sold curve\n",
    "for i in data['SKU'].unique():\n",
    "    df = data[data['SKU'] == i]\n",
    "\n",
    "    # prepare fitting data\n",
    "    X = np.array(df['MD'])\n",
    "    y = np.array(df['SALES_QTY'])\n",
    "    msrp = df['MSRP'].unique()[0]\n",
    "    md_lower_bound = df['MD_LOWER_BOUND'].unique()[0]\n",
    "    md_upper_bound = df['MD_UPPER_BOUND'].unique()[0]\n",
    "    inventory = df['INV'].unique()[0]\n",
    "    testx = np.arange(0,1,0.05) # test md 0 0.05 0.01 ... 1\n",
    "    MSE = 1000000 # 设定一个初始MSE\n",
    "    \n",
    "    # choose func with min(MSE)\n",
    "    for func in [linear, exp, log]:\n",
    "        Params,mse,y_pred = reg(func,X,y) # fit curve\n",
    "        # choose the one with min(MSE)\n",
    "        if mse < MSE:\n",
    "            MSE = mse\n",
    "            fitParams = Params\n",
    "            Y_pred = y_pred\n",
    "            demand = demand_func(msrp,func,fitParams,testx) # calculate demand of each testmd\n",
    "            sales_amt = func(testx,fitParams[0],fitParams[1]) # calculate sales_qty of each testmd\n",
    "            FUNC = func\n",
    "            func_name = func.__name__\n",
    "            \n",
    "    md = [i,msrp,md_lower_bound,md_upper_bound,inventory,fitParams[0],fitParams[1],func_name,MSE] \n",
    "    MD.append(md)\n",
    "    \n",
    "    demand_sales = [i]\n",
    "    demand_sales.extend(demand.tolist()) # 不同sku在不同md下的demand矩阵\n",
    "    demand_sales.extend(sales_amt.tolist()) # 不同sku在不同md下的sales_QTY矩阵\n",
    "    DEMAND_SALES.append(demand_sales) \n",
    "\n",
    "# rename MD    \n",
    "columns_name_MD = ['SKU','MSRP','MD_LOWER_BOUND','MD_UPPER_BOUND','INV','a','b','METHOD','MSE']\n",
    "MD = pd.DataFrame(MD,columns = columns_name_MD)\n",
    "\n",
    "# rename DEMAND_SALES\n",
    "columns_name_SALES = ['SKU']\n",
    "columns_name_SALES.extend(['MD='+str(round(i,2))+' D' for i in testx])\n",
    "columns_name_SALES.extend(['MD='+str(round(i,2))+' S' for i in testx])\n",
    "DEMAND_SALES = pd.DataFrame(DEMAND_SALES,columns=columns_name_SALES)"
   ]
  },
  {
   "cell_type": "markdown",
   "metadata": {},
   "source": [
    "## Finding Best MD"
   ]
  },
  {
   "cell_type": "code",
   "execution_count": 7,
   "metadata": {},
   "outputs": [],
   "source": [
    "def sales(x):\n",
    "    # calculate sales for a MD series, output a list\n",
    "    sales = [eval(MD['METHOD'][i])(x[i],MD['a'][i],MD['b'][i]) for i in MD.index]\n",
    "    return sales\n",
    "\n",
    "def demand(x):\n",
    "    # calculate demand for a MD series, output a list\n",
    "    demand = [MD['MSRP'][i] * (1 - x[i]) * (eval(MD['METHOD'][i])(x[i],MD['a'][i],MD['b'][i])) for i in MD.index]\n",
    "    return demand\n",
    "\n",
    "def demand_count(x):\n",
    "    # calculate total demand for a MD series, output a float\n",
    "    Demand = sum(demand(x))\n",
    "    return -Demand/10**7 # 取负号: 因为scipy.optimize.minimize求最小值 /10000000: 避免demand数量级太大，optimize跑不出来\n",
    "\n",
    "def weighted_MD(x):\n",
    "    # calculate weighted_MD for a MD series, output a float\n",
    "    weighted_MD = 1- (-demand_count(x)*(10**7)) / (sum(MD['MSRP'] * sales(x)))\n",
    "    return weighted_MD\n",
    "\n",
    "def inventory(x):\n",
    "    # calculate total inventory for a MD series, output a float\n",
    "    inv = MD['INV'] - sales(x)\n",
    "    return sum(inv)"
   ]
  },
  {
   "cell_type": "markdown",
   "metadata": {},
   "source": [
    "### Scenario 1: max **demand**"
   ]
  },
  {
   "cell_type": "code",
   "execution_count": 8,
   "metadata": {},
   "outputs": [],
   "source": [
    "# define bounds\n",
    "\n",
    "# MD bounds \n",
    "bounds = [[MD['MD_LOWER_BOUND'][i],MD['MD_UPPER_BOUND'][i]] for i in range(len(MD))]\n",
    "\n",
    "# inventory bounds\n",
    "inv_cons = []\n",
    "for i in MD.index:\n",
    "    def constraint_function(x, i=i):\n",
    "        return MD['INV'][i] - eval(MD['METHOD'][i])(x[i],MD['a'][i],MD['b'][i])\n",
    "    inv_cons.append({'fun': constraint_function, 'type': 'ineq'})"
   ]
  },
  {
   "cell_type": "code",
   "execution_count": 9,
   "metadata": {},
   "outputs": [
    {
     "name": "stdout",
     "output_type": "stream",
     "text": [
      "max demand is 2693277.755122124\n"
     ]
    }
   ],
   "source": [
    "x0 = np.array([0]*len(MD))\n",
    "solution = minimize(demand_count, x0, method='SLSQP', constraints=inv_cons, bounds= bounds)\n",
    "if solution.success:\n",
    "    print('max demand is', - solution['fun'] * (10**7))\n",
    "    # store result\n",
    "    md_list = [solution['x']]\n",
    "    result_list = ['MAX_DEMAND']\n",
    "else:\n",
    "    # if optimization fails, print its reason\n",
    "    print(solution.message)"
   ]
  },
  {
   "cell_type": "markdown",
   "metadata": {},
   "source": [
    "### Scenario 2: min **Weighted_MD**"
   ]
  },
  {
   "cell_type": "code",
   "execution_count": 9,
   "metadata": {},
   "outputs": [
    {
     "name": "stdout",
     "output_type": "stream",
     "text": [
      "min weighted_MD is 0.2523081089908191\n"
     ]
    }
   ],
   "source": [
    "x0 = np.array(solution['x'])\n",
    "solution2 = minimize(weighted_MD, x0, method = 'SLSQP', constraints=inv_cons, bounds = bounds)\n",
    "if solution2.success:\n",
    "    print('min weighted_MD is', weighted_MD(solution2['x']))\n",
    "    # store result\n",
    "    md_list.append(solution2['x'])\n",
    "    result_list.append('MIN_W_MD')\n",
    "else:\n",
    "    # if optimization fails, print its reason\n",
    "    print(solution2.message)"
   ]
  },
  {
   "cell_type": "markdown",
   "metadata": {},
   "source": [
    "### Scenario 3: max **Weighted_MD**"
   ]
  },
  {
   "cell_type": "code",
   "execution_count": 10,
   "metadata": {},
   "outputs": [
    {
     "name": "stdout",
     "output_type": "stream",
     "text": [
      "max weighted_MD is 0.3992942657562182\n"
     ]
    }
   ],
   "source": [
    "def weighted_MD2(x):\n",
    "    weighted_MD = 1- (-demand_count(x)*(10**7)) / (sum(MD['MSRP'] * sales(x)))\n",
    "    return -weighted_MD\n",
    "\n",
    "solution3 = minimize(weighted_MD2, x0, method = 'SLSQP', constraints=inv_cons, bounds = bounds)\n",
    "if solution3.success:\n",
    "    # store result\n",
    "    print('max weighted_MD is', weighted_MD(solution3['x']))\n",
    "    md_list.append(solution3['x'])\n",
    "    result_list.append('MAX_W_MD')\n",
    "else:\n",
    "    # if optimization fails, print its reason\n",
    "    print(solution3.message)"
   ]
  },
  {
   "cell_type": "markdown",
   "metadata": {},
   "source": [
    "### Scenario 4-6: **Target weighted_MD/demand/inventory**"
   ]
  },
  {
   "cell_type": "code",
   "execution_count": 1,
   "metadata": {},
   "outputs": [],
   "source": [
    "# setting target weighted md\n",
    "target_w_MD = 0.3\n",
    "# setting target weighted md\n",
    "target_demand = 2.5 * (10**6)\n",
    "# setting target inventory\n",
    "target_inventory = 1000\n",
    "\n",
    "## 注意：设置的target weighted_MD/demand需要在范围内"
   ]
  },
  {
   "cell_type": "code",
   "execution_count": 12,
   "metadata": {},
   "outputs": [],
   "source": [
    "# define weighted_md constrain\n",
    "def MD_const(x):\n",
    "    return target_w_MD - weighted_MD(x)\n",
    "\n",
    "# define ttl demand constrain\n",
    "def demand_const(x):\n",
    "    return -demand_count(x) - target_demand/(10 ** 7)\n",
    "\n",
    "# define ttl inventory constrain\n",
    "def inv_const(x):\n",
    "    return target_inventory - inventory(x)"
   ]
  },
  {
   "cell_type": "code",
   "execution_count": 13,
   "metadata": {},
   "outputs": [],
   "source": [
    "# target weighted md\n",
    "cons = [{'fun': MD_const, 'type': 'ineq'}]\n",
    "cons.extend(inv_cons)\n",
    "\n",
    "x0 = np.array(solution2['x'])\n",
    "solution4 = minimize(demand_count, x0, method='SLSQP', constraints=cons, bounds= bounds)\n",
    "if solution4.success:\n",
    "    # store result\n",
    "    md_list.append(solution4['x'])\n",
    "    result_list.append('TGT_MD')\n",
    "else:\n",
    "    # if optimization fails, print its reason\n",
    "    print(solution4.message)"
   ]
  },
  {
   "cell_type": "code",
   "execution_count": 14,
   "metadata": {},
   "outputs": [],
   "source": [
    "# target demand\n",
    "cons = [{'fun': demand_const, 'type': 'ineq'}]\n",
    "cons.extend(inv_cons)\n",
    "\n",
    "x0 = np.array(solution2['x'])\n",
    "solution5 = minimize(weighted_MD, x0, method='SLSQP', constraints=cons, bounds= bounds)\n",
    "if solution5.success:\n",
    "    # store result)\n",
    "    md_list.append(solution5['x'])\n",
    "    result_list.append('TGT_DEMAND')\n",
    "else:\n",
    "    # if optimization fails, print its reason\n",
    "    print(solution5.message)"
   ]
  },
  {
   "cell_type": "code",
   "execution_count": 15,
   "metadata": {},
   "outputs": [],
   "source": [
    "# target inventory\n",
    "cons = [{'fun': inv_const, 'type': 'ineq'}]\n",
    "cons.extend(inv_cons)\n",
    "\n",
    "x0 = np.array(solution2['x'])\n",
    "solution6 = minimize(weighted_MD, x0, method='SLSQP', constraints=cons, bounds= bounds)\n",
    "if solution6.success:\n",
    "    # store result\n",
    "    md_list.append(solution6['x'])\n",
    "    result_list.append('TGT_INV')\n",
    "else:\n",
    "    # if optimization fails, print its reason\n",
    "    print(solution6.message)"
   ]
  },
  {
   "cell_type": "markdown",
   "metadata": {},
   "source": [
    "### Scenario 7-10: Dual Objective"
   ]
  },
  {
   "cell_type": "code",
   "execution_count": 16,
   "metadata": {},
   "outputs": [],
   "source": [
    "from pymoo.optimize import minimize"
   ]
  },
  {
   "cell_type": "code",
   "execution_count": 17,
   "metadata": {},
   "outputs": [],
   "source": [
    "from pymoo.core.problem import ElementwiseProblem\n",
    "from pymoo.algorithms.moo.nsga2 import NSGA2\n",
    "from pymoo.algorithms.moo.nsga3 import NSGA3\n",
    "from pymoo.algorithms.moo.rnsga2 import RNSGA2\n",
    "from pymoo.decomposition.asf import ASF\n",
    "from pymoo.util.ref_dirs import get_reference_directions\n",
    "from pymoo.visualization.scatter import Scatter"
   ]
  },
  {
   "cell_type": "code",
   "execution_count": 18,
   "metadata": {},
   "outputs": [],
   "source": [
    "class MyProblem_wmd_demand(ElementwiseProblem):\n",
    "    # define problem with 2 objectives: weighted md & demand\n",
    "    def __init__(self):\n",
    "        super().__init__(n_var=len(MD),   # 变量数\n",
    "                         n_obj=2,   # 目标数\n",
    "                         n_constr= len(MD)+1,    \n",
    "                         xl=np.array(MD['MD_LOWER_BOUND']),     # MD下界\n",
    "                         xu=np.array(MD['MD_UPPER_BOUND']),   # MD上界\n",
    "                         )\n",
    "\n",
    "    def _evaluate(self, x, out, *args, **kwargs):\n",
    "        # define objectives\n",
    "        f1 = weighted_MD(x) \n",
    "        f2 = demand_count(x)\n",
    "\n",
    "        # define constrains\n",
    "        ## add ttl inventory constrain\n",
    "        g0 = -inv_const(x)\n",
    "        G = [g0]\n",
    "        ## add inventory bounds\n",
    "        for i in MD.index:\n",
    "            gi = eval(MD['METHOD'][i])(x[i],MD['a'][i],MD['b'][i]) - MD['INV'][i]\n",
    "            G.append(gi)\n",
    "\n",
    "        # todo\n",
    "        out[\"F\"] = [f1, f2]\n",
    "        out['G'] = G\n",
    "\n",
    "class MyProblem_demand_inv(ElementwiseProblem):\n",
    "    # define problem with 2 objectives: demand & inventory\n",
    "    def __init__(self):\n",
    "        super().__init__(n_var=len(MD),   # 变量数\n",
    "                         n_obj=2,   # 目标数\n",
    "                         n_constr= len(MD)+1,    \n",
    "                         xl=np.array(MD['MD_LOWER_BOUND']),     # MD下界\n",
    "                         xu=np.array(MD['MD_UPPER_BOUND']),   # MD上界\n",
    "                         )\n",
    "\n",
    "    def _evaluate(self, x, out, *args, **kwargs):\n",
    "        # define objectives\n",
    "        f1 = demand_count(x) \n",
    "        f2 = inventory(x)\n",
    "\n",
    "        # define constrains\n",
    "        ## add weighted constrain\n",
    "        g0 = -MD_const(x)\n",
    "        G = [g0]\n",
    "        ## add inventory bounds\n",
    "        for i in MD.index:\n",
    "            gi = eval(MD['METHOD'][i])(x[i],MD['a'][i],MD['b'][i]) - MD['INV'][i]\n",
    "            G.append(gi)\n",
    "        # todo\n",
    "        out[\"F\"] = [f1, f2]\n",
    "        out['G'] = G\n",
    "\n",
    "class MyProblem_wmd_inv(ElementwiseProblem):\n",
    "    # define problem with 2 objectives: weighted md & inventory\n",
    "    def __init__(self):\n",
    "        super().__init__(n_var=len(MD),   # 变量数\n",
    "                         n_obj=2,   # 目标数\n",
    "                         n_constr= len(MD) + 1,    \n",
    "                         xl=np.array(MD['MD_LOWER_BOUND']),     # MD下界\n",
    "                         xu=np.array(MD['MD_UPPER_BOUND']),   # MD上界\n",
    "                         )\n",
    "\n",
    "    def _evaluate(self, x, out, *args, **kwargs):\n",
    "        # define objectives\n",
    "        f1 = weighted_MD(x) \n",
    "        f2 = inventory(x)\n",
    "\n",
    "        # define constrains\n",
    "        ## add demand constr\n",
    "        g0 = -demand_const(x)\n",
    "        G = [g0]\n",
    "        ## add inventory bounds\n",
    "        for i in MD.index:\n",
    "            gi = eval(MD['METHOD'][i])(x[i],MD['a'][i],MD['b'][i]) - MD['INV'][i]\n",
    "            G.append(gi)\n",
    "\n",
    "        # todo\n",
    "        out[\"F\"] = [f1, f2]\n",
    "        out['G'] = G\n",
    "\n",
    "class MyProblem_wmd_demand_inv(ElementwiseProblem):\n",
    "    # define problem with 3 objectives: weighted md & demand & inventory\n",
    "    def __init__(self):\n",
    "        super().__init__(n_var=len(MD),   # 变量数\n",
    "                         n_obj=3,   # 目标数\n",
    "                         n_constr= len(MD),    \n",
    "                         xl=np.array(MD['MD_LOWER_BOUND']),     # MD下界\n",
    "                         xu=np.array(MD['MD_UPPER_BOUND']),   # MD上界\n",
    "                         )\n",
    "\n",
    "    def _evaluate(self, x, out, *args, **kwargs):\n",
    "        # define objectives\n",
    "        f1 = weighted_MD(x) \n",
    "        f2 = demand_count(x)\n",
    "        f3 = inventory(x)\n",
    "\n",
    "        # add inventory bounds\n",
    "        G = []\n",
    "        for i in MD.index:\n",
    "            gi = eval(MD['METHOD'][i])(x[i],MD['a'][i],MD['b'][i]) - MD['INV'][i]\n",
    "            G.append(gi)\n",
    "\n",
    "        # todo\n",
    "        out[\"F\"] = [f1, f2, f3]\n",
    "        out['G'] = G\n",
    "\n",
    "problem1 = MyProblem_wmd_demand()\n",
    "problem2 = MyProblem_demand_inv()\n",
    "problem3 = MyProblem_wmd_inv()\n",
    "problem4 = MyProblem_wmd_demand_inv()"
   ]
  },
  {
   "cell_type": "code",
   "execution_count": 19,
   "metadata": {},
   "outputs": [],
   "source": [
    "# Define reference points\n",
    "ref_points = np.array([[target_w_MD, -target_demand/(10**7)]]) # 可以设定多个\n",
    "\n",
    "# Get Algorithm\n",
    "algorithm = RNSGA2(\n",
    "    ref_points=ref_points,\n",
    "    pop_size=100,\n",
    "    epsilon=0.01,\n",
    "    normalization='front',\n",
    "    extreme_points_as_reference_points=False,)\n",
    "    #weights=np.array([0.5, 0.5]))\n",
    "\n",
    "algorithm2 = NSGA2(\n",
    "    pop_size=100,\n",
    "    n_offsprings=10,\n",
    "    eliminate_duplicates=True\n",
    ")"
   ]
  },
  {
   "cell_type": "code",
   "execution_count": 20,
   "metadata": {},
   "outputs": [],
   "source": [
    "# optimize problem with 2 objectives: weighted md & demand\n",
    "res1 = minimize(problem1, algorithm, save_history=True, termination=('n_gen', 200), seed=1, disp=False, verbose = False)\n",
    "X1 = res1.X # 自变量取值（pre SKU MD）\n",
    "F1 = res1.F # 目标函数取值 （f1 f2）"
   ]
  },
  {
   "cell_type": "code",
   "execution_count": 21,
   "metadata": {},
   "outputs": [],
   "source": [
    "# optimize problem with 2 objectives: demand & inventory\n",
    "res2 = minimize(problem2, algorithm2, save_history=True, termination=('n_gen', 200), seed=1, disp=False, verbose = False)\n",
    "X2 = res2.X # 自变量取值（pre SKU MD）\n",
    "F2 = res2.F # 目标函数取值 （f1 f2）"
   ]
  },
  {
   "cell_type": "code",
   "execution_count": 22,
   "metadata": {},
   "outputs": [],
   "source": [
    "# optimize problem with 2 objectives: weighted md & inventory\n",
    "ref_points = np.array([[target_w_MD, target_inventory]]) # set new reference point\n",
    "\n",
    "res3 = minimize(problem3, algorithm, save_history=True, termination=('n_gen', 200), seed=1, disp=False, verbose = False)\n",
    "X3 = res3.X # 自变量取值（pre SKU MD）\n",
    "F3 = res3.F # 目标函数取值 （f1 f2）"
   ]
  },
  {
   "cell_type": "code",
   "execution_count": 23,
   "metadata": {},
   "outputs": [],
   "source": [
    "# optimize problem with 3 objectives: weighted md & demand & inventory\n",
    "## create the reference directions to be used for the optimization\n",
    "ref_dirs = get_reference_directions(\"das-dennis\", 3, n_partitions=12)\n",
    "\n",
    "## create the algorithm object\n",
    "algorithm3 = NSGA3(pop_size=92,\n",
    "                  ref_dirs=ref_dirs)\n",
    "\n",
    "res4 = minimize(problem4, algorithm3, save_history=True, termination=('n_gen', 200), seed=1, disp=False, verbose = False)\n",
    "X4 = res4.X\n",
    "F4 = res4.F"
   ]
  },
  {
   "cell_type": "code",
   "execution_count": 24,
   "metadata": {},
   "outputs": [],
   "source": [
    "def choosing_best_point(F,weights_list):\n",
    "    # min-max scale\n",
    "    fl = F.min(axis=0)\n",
    "    fu = F.max(axis=0)\n",
    "    nF = (F - fl) / (fu - fl)\n",
    "\n",
    "    # 定义两个目标的权重\n",
    "    weights = np.array(weights_list) # 两个目标==重要\n",
    "    # ASF：选择增广尺度函数(Augmented Scalarization Function, ASF)分解方法\n",
    "    decomp = ASF()\n",
    "    i = decomp(nF, weights).argmin() # 选择最小的ASF值\n",
    "\n",
    "    return i\n"
   ]
  },
  {
   "cell_type": "code",
   "execution_count": 25,
   "metadata": {},
   "outputs": [
    {
     "name": "stdout",
     "output_type": "stream",
     "text": [
      "problem weighted_md & demand \n",
      "i = 75\n",
      "F[weighted_md -demand/(10^7)] = [ 0.31850301 -0.25195189] \n",
      "\n"
     ]
    }
   ],
   "source": [
    "# print result of problem with 2 objectives: weighted md & demand\n",
    "point1 = choosing_best_point(F1,[0.5,0.5])\n",
    "print(\"problem weighted_md & demand \\ni = %s\\nF[weighted_md -demand/(10^7)] = %s \\n\" % (point1, F1[point1]))\n",
    "md_list.append(X1[point1])\n",
    "result_list.append('W_MD_DEMAND')"
   ]
  },
  {
   "cell_type": "code",
   "execution_count": 26,
   "metadata": {},
   "outputs": [
    {
     "name": "stdout",
     "output_type": "stream",
     "text": [
      "problem demand & inventory \n",
      "i = 0\n",
      "F[weighted_md inventory] = [-2.24847107e-01  1.57899776e+03]\n"
     ]
    }
   ],
   "source": [
    "# print result of problem with 2 objectives: demand & inventory\n",
    "point2 = choosing_best_point(F2,[0.5,0.5])\n",
    "print(\"problem demand & inventory \\ni = %s\\nF[weighted_md inventory] = %s\" % (point2, F2[point2]))\n",
    "md_list.append(X2[point2])\n",
    "result_list.append('DEMAND_INV')"
   ]
  },
  {
   "cell_type": "code",
   "execution_count": 27,
   "metadata": {},
   "outputs": [
    {
     "name": "stdout",
     "output_type": "stream",
     "text": [
      "problem weighted_md & inventory \n",
      "i = 97\n",
      "F[weighted_md inventory] = [3.21935557e-01 5.56312316e+02]\n"
     ]
    }
   ],
   "source": [
    "# print result of problem with 2 objectives: weighted md & inventory\n",
    "point3 = choosing_best_point(F3,[0.5,0.5])\n",
    "print(\"problem weighted_md & inventory \\ni = %s\\nF[weighted_md inventory] = %s\" % (point3, F3[point3]))\n",
    "md_list.append(X3[point3])\n",
    "result_list.append('W_MD_INV')"
   ]
  },
  {
   "cell_type": "code",
   "execution_count": 28,
   "metadata": {},
   "outputs": [
    {
     "name": "stdout",
     "output_type": "stream",
     "text": [
      "problem weighted_md & demand & inventory \n",
      "i = 10\n",
      "F[weighted_md demand inventory] = [ 2.98753827e-01 -2.35048883e-01  1.25516007e+03]\n"
     ]
    }
   ],
   "source": [
    "# print result of problem with 3 objectives: weighted md & demand & inventory\n",
    "point4 = choosing_best_point(F4,[1/3,1/3,1/3])\n",
    "print(\"problem weighted_md & demand & inventory \\ni = %s\\nF[weighted_md demand inventory] = %s\" % (point4, F4[point4]))\n",
    "md_list.append(X4[point4])\n",
    "result_list.append('W_MD_DEMAND_INV')"
   ]
  },
  {
   "cell_type": "markdown",
   "metadata": {},
   "source": [
    "## Output Result"
   ]
  },
  {
   "cell_type": "code",
   "execution_count": 29,
   "metadata": {},
   "outputs": [],
   "source": [
    "def optimize_result(x, name):\n",
    "    # output a result dataframe for a MD series\n",
    "    optimize_result = pd.DataFrame()\n",
    "    optimize_result['SKU'] = MD['SKU']\n",
    "    optimize_result[name+'_MD'] = x\n",
    "    optimize_result[name+'_SALES'] = sales(x)\n",
    "    optimize_result[name+'_DEMAND'] = demand(x)\n",
    "    return optimize_result"
   ]
  },
  {
   "cell_type": "code",
   "execution_count": 30,
   "metadata": {},
   "outputs": [],
   "source": [
    "# generate SUMMARY sheet\n",
    "summary = pd.DataFrame(index = result_list)\n",
    "summary['DEMAND'] = [sum(demand(i)) for i in md_list]\n",
    "summary['SALES_QTY'] = [sum(sales(i)) for i in md_list]\n",
    "summary['INVENTORY'] = [inventory(i) for i in md_list]\n",
    "summary['WEIGHTED_MD'] = [weighted_MD(i) for i in md_list]\n",
    "\n",
    "# generate RESULT sheet\n",
    "for i in range(len(md_list)-1):\n",
    "    MD = pd.merge(MD, optimize_result(md_list[i+1],result_list[i+1]),on='SKU')"
   ]
  },
  {
   "cell_type": "code",
   "execution_count": 31,
   "metadata": {},
   "outputs": [],
   "source": [
    "# write to excel\n",
    "with pd.ExcelWriter(path + output_path + 'Pricing_Result.xlsx', engine='xlsxwriter') as writer:\n",
    "    summary.to_excel(writer, sheet_name = 'SUMMARY', index = True)\n",
    "    MD.to_excel(writer, sheet_name = 'RESULT', index = False)\n",
    "    DEMAND_SALES.to_excel(writer, sheet_name= 'DEMAND_SALES',index= False)"
   ]
  }
 ],
 "metadata": {
  "kernelspec": {
   "display_name": "Python 3",
   "language": "python",
   "name": "python3"
  },
  "language_info": {
   "codemirror_mode": {
    "name": "ipython",
    "version": 3
   },
   "file_extension": ".py",
   "mimetype": "text/x-python",
   "name": "python",
   "nbconvert_exporter": "python",
   "pygments_lexer": "ipython3",
   "version": "3.9.12"
  },
  "orig_nbformat": 4
 },
 "nbformat": 4,
 "nbformat_minor": 2
}
